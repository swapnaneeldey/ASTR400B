{
 "cells": [
  {
   "cell_type": "code",
   "execution_count": 1,
   "metadata": {},
   "outputs": [],
   "source": [
    "# In Class Lab 7 Template\n",
    "\n",
    "# G. Besla\n",
    "# with code from R. Hoffman, R. Li and E. Patel\n",
    "\n",
    "# import modules\n",
    "import numpy as np\n",
    "import astropy.units as u\n",
    "from astropy.constants import G\n",
    "\n",
    "# import plotting modules\n",
    "import matplotlib\n",
    "import matplotlib.pyplot as plt\n",
    "from matplotlib.colors import LogNorm\n",
    "\n",
    "# my modules\n",
    "from ReadFile import Read\n",
    "from CenterOfMass import CenterOfMass\n",
    "from MassProfile import MassProfile\n",
    "\n",
    "# for contours\n",
    "import scipy.optimize as so\n"
   ]
  },
  {
   "cell_type": "markdown",
   "metadata": {},
   "source": [
    "# Lab 7  Contour Plots and Spiral Arms\n",
    "\n",
    "In this lab you will: \n",
    "\n",
    "A) Use contour plots to identify substructure within the stellar disk of M31.\n",
    "\n",
    "B) Rotate the disk so that we are seeing it edge on\n",
    "\n",
    "C) Create plots to examine the kinematics of the disk\n",
    "\n",
    "D) Create plots to study spiral arms"
   ]
  },
  {
   "cell_type": "code",
   "execution_count": 2,
   "metadata": {
    "collapsed": true
   },
   "outputs": [],
   "source": [
    "# Code for plotting contours\n",
    "# from https://gist.github.com/adrn/3993992\n",
    "\n",
    "\n",
    "def find_confidence_interval(x, pdf, confidence_level):\n",
    "    return pdf[pdf > x].sum() - confidence_level\n",
    "\n",
    "def density_contour(xdata, ydata, nbins_x, nbins_y, ax=None, **contour_kwargs):\n",
    "    \"\"\" Create a density contour plot.\n",
    "    Parameters\n",
    "    ----------\n",
    "    xdata : numpy.ndarray\n",
    "    ydata : numpy.ndarray\n",
    "    nbins_x : int\n",
    "        Number of bins along x dimension\n",
    "    nbins_y : int\n",
    "        Number of bins along y dimension\n",
    "    ax : matplotlib.Axes (optional)\n",
    "        If supplied, plot the contour to this axis. Otherwise, open a new figure\n",
    "    contour_kwargs : dict\n",
    "        kwargs to be passed to pyplot.contour()\n",
    "        \n",
    "    Example Usage\n",
    "    -------------\n",
    "     density_contour(x pos, y pos, contour res, contour res, axis, colors for contours)\n",
    "     e.g.:\n",
    "     density_contour(xD, yD, 80, 80, ax=ax, \n",
    "         colors=['red','orange', 'yellow', 'orange', 'yellow'])\n",
    "\n",
    "    \"\"\"\n",
    "\n",
    "    H, xedges, yedges = np.histogram2d(xdata, ydata, bins=(nbins_x,nbins_y), normed=True)\n",
    "    # NOTE : if you are using the latest version of python, in the above: \n",
    "    # instead of normed=True, use density=True\n",
    "    \n",
    "    x_bin_sizes = (xedges[1:] - xedges[:-1]).reshape((1,nbins_x))\n",
    "    y_bin_sizes = (yedges[1:] - yedges[:-1]).reshape((nbins_y,1))\n",
    "\n",
    "    pdf = (H*(x_bin_sizes*y_bin_sizes))\n",
    "    \n",
    "    X, Y = 0.5*(xedges[1:]+xedges[:-1]), 0.5*(yedges[1:]+yedges[:-1])\n",
    "    Z = pdf.T\n",
    "    fmt = {}\n",
    "    \n",
    "    ### Adjust Here #### \n",
    "    \n",
    "    # Contour Levels Definitions\n",
    "    one_sigma = so.brentq(find_confidence_interval, 0., 1., args=(pdf, 0.68))\n",
    "    two_sigma = so.brentq(find_confidence_interval, 0., 1., args=(pdf, 0.95))\n",
    "    three_sigma = so.brentq(find_confidence_interval, 0., 1., args=(pdf, 0.99))\n",
    "    \n",
    "    # You might need to add a few levels\n",
    "\n",
    "\n",
    "    # Array of Contour levels. Adjust according to the above\n",
    "    levels = [one_sigma, two_sigma, three_sigma][::-1]\n",
    "    \n",
    "    # contour level labels  Adjust accoding to the above.\n",
    "    strs = ['0.68','0.95', '0.99'][::-1]\n",
    "\n",
    "    \n",
    "    ###### \n",
    "    \n",
    "    if ax == None:\n",
    "        contour = plt.contour(X, Y, Z, levels=levels, origin=\"lower\", **contour_kwargs)\n",
    "        for l, s in zip(contour.levels, strs):\n",
    "            fmt[l] = s\n",
    "        plt.clabel(contour, contour.levels, inline=True, fmt=fmt, fontsize=12)\n",
    "\n",
    "    else:\n",
    "        contour = ax.contour(X, Y, Z, levels=levels, origin=\"lower\", **contour_kwargs)\n",
    "        for l, s in zip(contour.levels, strs):\n",
    "            fmt[l] = s\n",
    "        ax.clabel(contour, contour.levels, inline=True, fmt=fmt, fontsize=12)\n",
    "    \n",
    "    return contour"
   ]
  },
  {
   "cell_type": "markdown",
   "metadata": {},
   "source": [
    "Use the CenterOfMass code to compute the positions and velocities of all particles in M31's disk relative to its center of mass position and motion."
   ]
  },
  {
   "cell_type": "code",
   "execution_count": 3,
   "metadata": {
    "collapsed": true
   },
   "outputs": [],
   "source": [
    "# Create a COM of object for M31 Disk (particle type=2) Using Code from Homework 4\n",
    "COMD = CenterOfMass(\"M31_000.txt\",2)"
   ]
  },
  {
   "cell_type": "code",
   "execution_count": 4,
   "metadata": {
    "collapsed": true
   },
   "outputs": [],
   "source": [
    "# Compute COM of M31 using disk particles\n",
    "COMP = COMD.COM_P(0.1)\n",
    "COMV = COMD.COM_V(COMP[0],COMP[1],COMP[2])"
   ]
  },
  {
   "cell_type": "code",
   "execution_count": 5,
   "metadata": {
    "collapsed": true
   },
   "outputs": [],
   "source": [
    "# Determine positions of disk particles relative to COM \n",
    "xD = COMD.x - COMP[0].value \n",
    "yD = COMD.y - COMP[1].value \n",
    "zD = COMD.z - COMP[2].value \n",
    "\n",
    "# total magnitude\n",
    "rtot = np.sqrt(xD**2 + yD**2 + zD**2)\n",
    "\n",
    "# Determine velocities of disk particles relatiev to COM motion\n",
    "vxD = COMD.vx - COMV[0].value \n",
    "vyD = COMD.vy - COMV[1].value \n",
    "vzD = COMD.vz - COMV[2].value \n",
    "\n",
    "# total velocity \n",
    "vtot = np.sqrt(vxD**2 + vyD**2 + vzD**2)\n",
    "\n",
    "# Arrays for r and v \n",
    "r = np.array([xD,yD,zD]).T # transposed \n",
    "v = np.array([vxD,vyD,vzD]).T"
   ]
  },
  {
   "cell_type": "markdown",
   "metadata": {},
   "source": [
    "# Part A:\n",
    "\n",
    "Create plot of M31's disk density, using 2D Histograms "
   ]
  },
  {
   "cell_type": "code",
   "execution_count": 12,
   "metadata": {
    "collapsed": true,
    "scrolled": false
   },
   "outputs": [
    {
     "data": {
      "image/png": "[encoded data removed]",
      "text/plain": [
       "<Figure size 1200x1000 with 2 Axes>"
      ]
     },
     "metadata": {},
     "output_type": "display_data"
    }
   ],
   "source": [
    "# 1) Make plots \n",
    "\n",
    "# M31 Disk Density \n",
    "fig, ax= plt.subplots(figsize=(12, 10))\n",
    "\n",
    "# ADD HERE\n",
    "# plot the particle density for M31 using a 2D historgram\n",
    "#plt.hist2D(pos1,pos2, bins=, norm=LogNorm(), cmap='' )\n",
    "# cmap options: \n",
    "# https://matplotlib.org/3.1.0/tutorials/colors/colormaps.html  \n",
    "#   e.g. 'magma', 'viridis'\n",
    "# can modify bin number to make the plot smoother\n",
    "\n",
    "plt.hist2d(xD, yD, bins=150, norm=LogNorm(), cmap='magma')\n",
    "\n",
    "cbar = plt.colorbar()\n",
    "cbar.set_label(\"Number of disk particle per bin\", fontsize=15)\n",
    "\n",
    "# ADD HERE\n",
    "# make the contour plot\n",
    "# x pos, y pos, contour res, contour res, axis, colors for contours.\n",
    "# remember to adjust this if there are other contours added\n",
    "# density_contour(pos1, pos2, res1, res2, ax=ax, colors=[])\n",
    "\n",
    "#density_contour(xD, yD, 80, 80, ax=ax,colors=['red','orange', 'yellow', 'orange', 'yellow'])\n",
    "\n",
    "# Add axis labels\n",
    "plt.xlabel(\"y kpc\", fontsize=22)\n",
    "plt.ylabel('x kpc ', fontsize=22)\n",
    "\n",
    "#set axis limits\n",
    "plt.ylim(-40,40)\n",
    "plt.xlim(-40,40)\n",
    "\n",
    "#adjust tick label font size\n",
    "label_size = 22\n",
    "matplotlib.rcParams['xtick.labelsize'] = label_size \n",
    "matplotlib.rcParams['ytick.labelsize'] = label_size\n",
    "\n",
    "\n",
    "\n",
    "# Save to a file\n",
    "plt.savefig('/Users/swapnaneeldey/Desktop/ASTR400Bfiles/ASTR400B/Labs/Lab7/Lab7_M31Disk.png')"
   ]
  },
  {
   "cell_type": "markdown",
   "metadata": {},
   "source": [
    "# Part B\n",
    "\n",
    "Utilize the below code to rotate the M31 disk and plot it edge on and face on.\n",
    "\n",
    "What is the sense of rotation of M31 ? "
   ]
  },
  {
   "cell_type": "code",
   "execution_count": null,
   "metadata": {
    "collapsed": true
   },
   "outputs": [],
   "source": [
    "\n",
    "def RotateFrame(posI,velI):\n",
    "    \"\"\"a function that will rotate the position and velocity vectors\n",
    "    so that the disk angular momentum is aligned with z axis. \n",
    "    \n",
    "    PARAMETERS\n",
    "    ----------\n",
    "        posI : `array of floats`\n",
    "             3D array of positions (x,y,z)\n",
    "        velI : `array of floats`\n",
    "             3D array of velocities (vx,vy,vz)\n",
    "             \n",
    "    RETURNS\n",
    "    -------\n",
    "        pos: `array of floats`\n",
    "            rotated 3D array of positions (x,y,z) \n",
    "            such that disk is in the XY plane\n",
    "        vel: `array of floats`\n",
    "            rotated 3D array of velocities (vx,vy,vz) \n",
    "            such that disk angular momentum vector\n",
    "            is in the +z direction \n",
    "    \"\"\"\n",
    "    \n",
    "    # compute the angular momentum\n",
    "    L = np.sum(np.cross(posI,velI), axis=0)\n",
    "    \n",
    "    # normalize the angular momentum vector\n",
    "    L_norm = L/np.sqrt(np.sum(L**2))\n",
    "\n",
    "\n",
    "    # Set up rotation matrix to map L_norm to\n",
    "    # z unit vector (disk in xy-plane)\n",
    "    \n",
    "    # z unit vector\n",
    "    z_norm = np.array([0, 0, 1])\n",
    "    \n",
    "    # cross product between L and z\n",
    "    vv = np.cross(L_norm, z_norm)\n",
    "    s = np.sqrt(np.sum(vv**2))\n",
    "    \n",
    "    # dot product between L and z \n",
    "    c = np.dot(L_norm, z_norm)\n",
    "    \n",
    "    # rotation matrix\n",
    "    I = np.array([[1, 0, 0], [0, 1, 0], [0, 0, 1]])\n",
    "    v_x = np.array([[0, -vv[2], vv[1]], [vv[2], 0, -vv[0]], [-vv[1], vv[0], 0]])\n",
    "    R = I + v_x + np.dot(v_x, v_x)*(1 - c)/s**2\n",
    "\n",
    "    # Rotate coordinate system\n",
    "    pos = np.dot(R, posI.T).T\n",
    "    vel = np.dot(R, velI.T).T\n",
    "    \n",
    "    return pos, vel\n"
   ]
  },
  {
   "cell_type": "code",
   "execution_count": null,
   "metadata": {
    "collapsed": true
   },
   "outputs": [],
   "source": [
    "# ADD HERE\n",
    "# compute the rotated position and velocity vectors\n"
   ]
  },
  {
   "cell_type": "code",
   "execution_count": null,
   "metadata": {
    "collapsed": true
   },
   "outputs": [],
   "source": [
    "# Rotated M31 Disk - EDGE ON\n",
    "\n",
    "# M31 Disk Density \n",
    "fig, ax= plt.subplots(figsize=(15, 10))\n",
    "\n",
    "# plot the particle density for M31 , 2D histogram\n",
    "# ADD HERE\n",
    "\n",
    "\n",
    "cbar = plt.colorbar()\n",
    "cbar.set_label(\"Number of disk particle per bin\", fontsize=15)\n",
    "\n",
    "\n",
    "# Add axis labels\n",
    "plt.xlabel(' ', fontsize=22)\n",
    "plt.ylabel(' ', fontsize=22)\n",
    "\n",
    "#set axis limits\n",
    "plt.ylim(-10,10)\n",
    "plt.xlim(-45,45)\n",
    "\n",
    "#adjust tick label font size\n",
    "label_size = 22\n",
    "matplotlib.rcParams['xtick.labelsize'] = label_size \n",
    "matplotlib.rcParams['ytick.labelsize'] = label_size\n",
    "\n",
    "# Save to a file\n",
    "#plt.savefig('Lab7_EdgeOn_Density.png')\n"
   ]
  },
  {
   "cell_type": "code",
   "execution_count": null,
   "metadata": {
    "collapsed": true
   },
   "outputs": [],
   "source": [
    "# Rotated M31 Disk - FACE ON\n",
    "\n",
    "# M31 Disk Density \n",
    "fig, ax= plt.subplots(figsize=(12, 10))\n",
    "\n",
    "# plot the particle density for M31 \n",
    "# ADD HERE\n",
    "\n",
    "cbar = plt.colorbar()\n",
    "cbar.set_label(\"Number of disk particle per bin\", fontsize=15)\n",
    "\n",
    "# make the contour plot\n",
    "# x pos, y pos, contour res, contour res, axis, colors for contours.\n",
    "# ADD HERE\n",
    "\n",
    "# Add axis labels\n",
    "plt.xlabel('  ', fontsize=22)\n",
    "plt.ylabel('  ', fontsize=22)\n",
    "\n",
    "#set axis limits\n",
    "plt.ylim(-40,40)\n",
    "plt.xlim(-40,40)\n",
    "\n",
    "#adjust tick label font size\n",
    "label_size = 22\n",
    "matplotlib.rcParams['xtick.labelsize'] = label_size \n",
    "matplotlib.rcParams['ytick.labelsize'] = label_size\n",
    "\n",
    "# Save to a file \n",
    "# plt.savefig('Lab7_FaceOn_Density.png')\n"
   ]
  },
  {
   "cell_type": "markdown",
   "metadata": {},
   "source": [
    "# Part C\n",
    "\n",
    "a) Create a scatter plot of the edge on disk particles, weighted by velocity."
   ]
  },
  {
   "cell_type": "code",
   "execution_count": null,
   "metadata": {
    "collapsed": true
   },
   "outputs": [],
   "source": [
    "# Plot velocity weighted EDGE ON DISK\n",
    "\n",
    "fig = plt.figure(figsize=(15,10))\n",
    "ax = plt.subplot(111)\n",
    "\n",
    "# plot position of disk particles color \n",
    "# coded by velocity along the 3rd axis\n",
    "# plt.scatter(pos1, pos2, c=vel1)\n",
    "# ADD HERE \n",
    "\n",
    "\n",
    "#colorbar\n",
    "cbar = plt.colorbar()\n",
    "cbar.set_label('  ', size=22)\n",
    "\n",
    "# Add axis labels\n",
    "plt.xlabel('  ', fontsize=22)\n",
    "plt.ylabel('  ', fontsize=22)\n",
    "\n",
    "\n",
    "\n",
    "#adjust tick label font size\n",
    "label_size = 22\n",
    "matplotlib.rcParams['xtick.labelsize'] = label_size \n",
    "matplotlib.rcParams['ytick.labelsize'] = label_size\n",
    "\n",
    "#set axis limits\n",
    "plt.ylim(-10,10)\n",
    "plt.xlim(-40,40)\n",
    "\n",
    "# Save file\n",
    "# plt.savefig('Lab7_EdgeOn_Vel.png')\n"
   ]
  },
  {
   "cell_type": "markdown",
   "metadata": {},
   "source": [
    "b) Create a phase diagram for the edge on disk (Position vs. Velocity) using a 2D Histogram.\n",
    "\n",
    "c) Use the MassProfile Code to overplot the expected circular velocity from the mass profile. "
   ]
  },
  {
   "cell_type": "code",
   "execution_count": null,
   "metadata": {
    "collapsed": true
   },
   "outputs": [],
   "source": [
    "# Make a phase diagram of the R vs V\n",
    "# MW Disk Velocity Field edge on.\n",
    "\n",
    "fig = plt.figure(figsize=(12,10))\n",
    "ax = plt.subplot(111)\n",
    "\n",
    "# Plot 2D Histogram for one component of  Pos vs Vel \n",
    "# ADD HERE\n",
    "\n",
    "\n",
    "# Overplot Circular Velocity from the MassProfile Code\n",
    "# ADD HERE\n",
    "\n",
    "\n",
    "\n",
    "# Add axis labels\n",
    "plt.xlabel(' ', fontsize=22)\n",
    "plt.ylabel(' ', fontsize=22)\n",
    "\n",
    "\n",
    "\n",
    "#adjust tick label font size\n",
    "label_size = 22\n",
    "matplotlib.rcParams['xtick.labelsize'] = label_size \n",
    "matplotlib.rcParams['ytick.labelsize'] = label_size\n",
    "\n",
    "\n",
    "\n",
    "# Save file\n",
    "# plt.savefig('Lab7_RotationCurve.png')\n"
   ]
  },
  {
   "cell_type": "markdown",
   "metadata": {
    "collapsed": true
   },
   "source": [
    "# Part D: Exploring Spiral Structure"
   ]
  },
  {
   "cell_type": "code",
   "execution_count": null,
   "metadata": {},
   "outputs": [],
   "source": [
    "# Determine the positions of the disk particles in \n",
    "# cylindrical coordinates. (like in Lab 6)"
   ]
  },
  {
   "cell_type": "code",
   "execution_count": null,
   "metadata": {},
   "outputs": [],
   "source": [
    "# Make a phase diagram of R vs Theta\n",
    "\n",
    "fig = plt.figure(figsize=(12,10))\n",
    "ax = plt.subplot(111)\n",
    "\n",
    "# Plot 2D Histogram of r vs theta\n",
    "# ADD HERE\n",
    "\n",
    "\n",
    "\n",
    "\n",
    "\n",
    "# Add axis labels\n",
    "plt.xlabel(' ', fontsize=22)\n",
    "plt.ylabel(' ', fontsize=22)\n",
    "\n",
    "\n",
    "\n",
    "#adjust tick label font size\n",
    "label_size = 22\n",
    "matplotlib.rcParams['xtick.labelsize'] = label_size \n",
    "matplotlib.rcParams['ytick.labelsize'] = label_size\n",
    "\n",
    "\n",
    "\n",
    "# Save file\n",
    "# plt.savefig('Lab7_SpiralPhase.png')"
   ]
  }
 ],
 "metadata": {
  "kernelspec": {
   "display_name": "base",
   "language": "python",
   "name": "python3"
  },
  "language_info": {
   "codemirror_mode": {
    "name": "ipython",
    "version": 3
   },
   "file_extension": ".py",
   "mimetype": "text/x-python",
   "name": "python",
   "nbconvert_exporter": "python",
   "pygments_lexer": "ipython3",
   "version": "3.11.5"
  }
 },
 "nbformat": 4,
 "nbformat_minor": 2
}
