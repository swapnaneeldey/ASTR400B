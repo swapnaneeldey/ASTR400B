{
 "cells": [
  {
   "cell_type": "markdown",
   "metadata": {},
   "source": [
    "# Lab 5 ASTR 400B \n"
   ]
  },
  {
   "cell_type": "code",
   "execution_count": 14,
   "metadata": {},
   "outputs": [],
   "source": [
    "# Import Modules \n",
    "import numpy as np\n",
    "import matplotlib.pyplot as plt\n",
    "import matplotlib\n",
    "from astropy import constants as const # import astropy constants\n",
    "import astropy.units as u\n",
    "from scipy.optimize import fsolve"
   ]
  },
  {
   "cell_type": "markdown",
   "metadata": {},
   "source": [
    "# Part A :  Mass to Light Ratios \n",
    "\n",
    "Wolf et al. 2010 \n",
    "\n",
    "$M(<R_{half}) = \\frac {4}{G}\\sigma^2 R_e$\n",
    "\n",
    "Where $R_{half}$ = 3D half mass radius \n",
    "and $R_e$ is the 2D half mass radius of stars (observed)\n",
    "\n",
    "Determine which of the following two systems are galaxies:\n",
    "\n",
    "The system 47 Tuc is observed with:  $\\sigma = 17.3$ km/s, $R_e = 0.5$ pc, $L_v \\sim 10^5 L_\\odot$ \n",
    "\n",
    "The system Willman I is observed with: $\\sigma = 4.3$ km/s, $R_e = 25$ pc, $L_v = 10^3 L_\\odot$"
   ]
  },
  {
   "cell_type": "code",
   "execution_count": 2,
   "metadata": {},
   "outputs": [],
   "source": [
    "# Gravitational Constant in the desired units\n",
    "# kpc^3/Gyr^2/Msun\n",
    "Grav = const.G.to(u.kpc**3/u.Gyr**2/u.Msun)"
   ]
  },
  {
   "cell_type": "code",
   "execution_count": 3,
   "metadata": {
    "collapsed": true
   },
   "outputs": [],
   "source": [
    "def WolfMass(sigma, re):\n",
    "    \"\"\" Function that defines the Wolf mass estimator from Wolf+ 2010\n",
    "    PARAMETERS\n",
    "    ----------\n",
    "        sigma: astropy quantity\n",
    "            1D line of sight velocity dispersion in km/s\n",
    "        re: astropy quantity\n",
    "            Effective radius, 2D radius enclosing half the\n",
    "            stellar mass in kpc\n",
    "    OUTPUTS\n",
    "    -------\n",
    "        mWolf: Returns the dynamical mass within the \n",
    "            half light radius in Msun\n",
    "    \"\"\"\n",
    "    \n",
    "    sigmaKpcGyr = sigma.to(u.kpc/u.Gyr) # velocity dispersion units\n",
    "    \n",
    "    mWolf = 4/Grav*sigmaKpcGyr**2*re # Wolf mass estimator\n",
    "    \n",
    "    return mWolf"
   ]
  },
  {
   "cell_type": "code",
   "execution_count": 4,
   "metadata": {
    "collapsed": true
   },
   "outputs": [
    {
     "name": "stdout",
     "output_type": "stream",
     "text": [
      "1.39e+05 solMass\n",
      "Mass to light ratio of 47 Tuc: 1.4 solMass / solLum\n",
      "4.30e+05 solMass\n",
      "Mass to light ratio of William I: 429.9 solMass / solLum\n"
     ]
    }
   ],
   "source": [
    "Tuc_47 = WolfMass(17.3*u.km/u.s,0.5e-3*u.kpc)\n",
    "Lum_tuc = 1e5 * u.Lsun\n",
    "will_I = WolfMass(4.3*u.km/u.s,25e-3*u.kpc)\n",
    "Lum_will = 1e3 * u.Lsun\n",
    "\n",
    "print(f\"{Tuc_47:.2e}\")\n",
    "print(f\"Mass to light ratio of 47 Tuc: {np.around(Tuc_47/Lum_tuc, 1)}\")\n",
    "\n",
    "print(f\"{will_I:.2e}\")\n",
    "print(f\"Mass to light ratio of William I: {np.around(will_I/Lum_will,1)}\")"
   ]
  },
  {
   "cell_type": "markdown",
   "metadata": {},
   "source": [
    "# Part B :  Stellar to Halo Mass Relation\n",
    "\n",
    "Following the work of [Moster et al. 2013 (MNRAS, 428, 3121)](https://ui.adsabs.harvard.edu/abs/2013MNRAS.428.3121M/abstract)\n",
    "\n",
    "\n",
    "`Equation 2:`                  $ \\frac{m}{M} = 2N \\left [ \\left ( \\frac{M}{M_1} \\right)^{-\\beta} + \\left (\\frac{M}{M_1} \\right)^{\\gamma} \\right]$ \n",
    "\n",
    "$m$ = stellar mass, $M$ = halo mass\n",
    "\n",
    "`Equation 11:`        log $M_1(z) = M_{10} + M_{11} \\frac{z}{z+1} $ \n",
    "\n",
    "`Equation 12:`        $N(z) = N_{10} + N_{11} \\frac{z}{z+1} $\n",
    "\n",
    "`Equation 13:`         $\\beta(z) = \\beta_{10} + \\beta_{11} \\frac{z}{z+1} $\n",
    "\n",
    "`Equation 14:`         $\\gamma(z) = \\gamma_{10} + \\gamma_{11} \\frac{z}{z+1} $"
   ]
  },
  {
   "cell_type": "markdown",
   "metadata": {},
   "source": [
    "# Q1 \n",
    "\n",
    "Modify the class below by adding a function called `StellarMass` that uses the `SHMratio` function and returns the stellar mass."
   ]
  },
  {
   "cell_type": "code",
   "execution_count": 5,
   "metadata": {
    "collapsed": true
   },
   "outputs": [],
   "source": [
    "class AbundanceMatching:\n",
    "    \"\"\" Class to define the abundance matching relations from \n",
    "    Moster et al. 2013, which relate the stellar mass of a galaxy\n",
    "    to the expected dark matter halo mass, according to \n",
    "    Lambda Cold Dark Matter (LCDM) theory \"\"\"\n",
    "    \n",
    "    \n",
    "    def __init__(self, mhalo, z):\n",
    "        \"\"\" Initialize the class\n",
    "        \n",
    "        PARAMETERS\n",
    "        ----------\n",
    "            mhalo: float\n",
    "                Halo mass in Msun\n",
    "            z: float\n",
    "                redshift\n",
    "        \"\"\"\n",
    "        \n",
    "        #initializing the parameters:\n",
    "        self.mhalo = mhalo # Halo Mass in Msun\n",
    "        self.z = z  # Redshift\n",
    "        \n",
    "        \n",
    "    def logM1(self):\n",
    "        \"\"\"eq. 11 of Moster 2013\n",
    "        OUTPUT: \n",
    "            M1: float \n",
    "                characteristic mass in log(Msun)\n",
    "        \"\"\"\n",
    "        M10      = 11.59\n",
    "        M11      = 1.195 \n",
    "        return M10 + M11*(self.z/(1+self.z))  \n",
    "    \n",
    "    \n",
    "    def N(self):\n",
    "        \"\"\"eq. 12 of Moster 2013\n",
    "        OUTPUT: \n",
    "            Normalization for eq. 2\n",
    "        \"\"\"\n",
    "        N10      = 0.0351\n",
    "        N11      = -0.0247\n",
    "    \n",
    "        return N10 + N11*(self.z/(1+self.z))\n",
    "    \n",
    "    \n",
    "    def Beta(self):\n",
    "        \"\"\"eq. 13 of Moster 2013\n",
    "        OUTPUT:  power of the low mass slope\"\"\"\n",
    "        beta10      = 1.376\n",
    "        beta11      = -0.826\n",
    "    \n",
    "        return beta10 + beta11*(self.z/(1+self.z))\n",
    "    \n",
    "    def Gamma(self):\n",
    "        \"\"\"eq. 14 of Moster 2013\n",
    "        OUTPUT: power of the high mass slope \"\"\"\n",
    "        gamma10      = 0.608\n",
    "        gamma11      = 0.329\n",
    "    \n",
    "        return gamma10 + gamma11*(self.z/(1+self.z))\n",
    "    \n",
    "    \n",
    "    def SHMratio(self):\n",
    "        \"\"\" \n",
    "        eq. 2 of Moster + 2013\n",
    "        The ratio of the stellar mass to the halo mass\n",
    "        \n",
    "        OUTPUT: \n",
    "            SHMratio float\n",
    "                Stellar mass to halo mass ratio\n",
    "        \"\"\"\n",
    "        M1 = 10**self.logM1() # Converting characteristic mass \n",
    "        # to Msun from Log(Msun)\n",
    "        \n",
    "        A = (self.mhalo/M1)**(-self.Beta())  # Low mass end\n",
    "        \n",
    "        B = (self.mhalo/M1)**(self.Gamma())   # High mass end\n",
    "        \n",
    "        Norm = 2*self.N() # Normalization\n",
    "    \n",
    "        SHMratio = Norm*(A+B)**(-1)\n",
    "    \n",
    "        return SHMratio \n",
    "    \n",
    " # Q1: add a function to the class that takes the SHM ratio and returns \n",
    "# The stellar mass \n",
    "    def StellarMass(self):\n",
    "        \"\"\"Method to compute the stellar mass\n",
    "        using eq 2 of Moster+2013 (stellar / halo mass ratio)\n",
    "        \n",
    "        Output;\n",
    "            starMass: float, stellar mass in Msun\"\"\"\n",
    "        \n",
    "        starMass = self.mhalo*self.SHMratio()\n",
    "\n",
    "        return starMass\n",
    "\n",
    "\n"
   ]
  },
  {
   "cell_type": "markdown",
   "metadata": {},
   "source": [
    "# Part C : Plot the Moster Relation\n",
    "\n",
    "Reproduce the below figure from Moster + 2013 \n",
    "Plot this for z=0, 0.5, 1, 2\n",
    "\n",
    "![mos](./MosterFig.png)"
   ]
  },
  {
   "cell_type": "code",
   "execution_count": 6,
   "metadata": {
    "collapsed": true
   },
   "outputs": [],
   "source": [
    "mh = np.logspace(10,15,1000) # Logarithmically spaced array"
   ]
  },
  {
   "cell_type": "code",
   "execution_count": 7,
   "metadata": {
    "collapsed": true
   },
   "outputs": [],
   "source": [
    "# Define Instances of the Class for each redshift\n",
    "MosterZ0 = AbundanceMatching(mh,0)\n"
   ]
  },
  {
   "cell_type": "code",
   "execution_count": 8,
   "metadata": {
    "collapsed": true
   },
   "outputs": [
    {
     "data": {
      "image/png": "[encoded data removed]",
      "text/plain": [
       "<Figure size 1000x800 with 1 Axes>"
      ]
     },
     "metadata": {},
     "output_type": "display_data"
    }
   ],
   "source": [
    "\n",
    "fig,ax = plt.subplots(figsize=(10,8))\n",
    "\n",
    "\n",
    "#adjust tick label font size\n",
    "label_size = 22\n",
    "matplotlib.rcParams['xtick.labelsize'] = label_size \n",
    "matplotlib.rcParams['ytick.labelsize'] = label_size\n",
    "\n",
    "# Plot z = 0\n",
    "plt.plot(np.log10(mh), np.log10(MosterZ0.StellarMass()),\n",
    "         linewidth = 5, label='z=0')\n",
    "\n",
    "# Continue plotting for the other redshifts here\n",
    "\n",
    "\n",
    "\n",
    "\n",
    "# Axes labels \n",
    "plt.xlabel('log (M$_h$/M$_\\odot$)',fontsize=22) \n",
    "plt.ylabel('log (m$_\\star$/M$_\\odot$)', fontsize=22)\n",
    "\n",
    "# Legend\n",
    "plt.legend(loc='lower right',fontsize='x-large')\n",
    "\n",
    "# save the file \n",
    "plt.savefig(\"/Users/swapnaneeldey/Desktop/ASTR400Bfiles/ASTR400B/Labs/Lab5/AbundanceMatching_Lab5.png\"      )\n",
    "\n"
   ]
  },
  {
   "cell_type": "markdown",
   "metadata": {},
   "source": [
    "# Part D\n",
    "\n",
    "# Q1\n",
    "\n",
    "In studies that have modeled the Magellanic Clouds prior to 2010, the LMC is traditioanlly modeled with a halo (dark matter) mass of order $3 \\times 10^{10}$M$_\\odot$.  \n",
    "\n",
    "## A) \n",
    "According to $\\Lambda$CDM theory, what should be the stellar mass of the LMC halo be at z=0?  \n",
    "\n",
    "## B) \n",
    "How does this stellar mass compare to the actual observed stellar mass of the LMC at the present day of ~$3 \\times 10^9$ M$_\\odot$ ? \n",
    "\n",
    "## C) \n",
    "What is the $\\Lambda$CDM expected halo mass for the LMC (using Abundance Matching)? "
   ]
  },
  {
   "cell_type": "code",
   "execution_count": 15,
   "metadata": {
    "collapsed": true
   },
   "outputs": [],
   "source": [
    "def moster_relation(M_halo, z=0):\n",
    "    \"\"\"\n",
    "    Compute the stellar mass using the Moster+ 2013 stellar-to-halo mass relation.\n",
    "\n",
    "    Parameters:\n",
    "    -----------\n",
    "    M_halo : float\n",
    "        Halo mass in Msun\n",
    "    z : float\n",
    "        Redshift (default z=0)\n",
    "\n",
    "    Returns:\n",
    "    --------\n",
    "    M_star : float\n",
    "        Stellar mass in Msun\n",
    "    \"\"\"\n",
    "    # Moster+ 2013 parameters at z=0\n",
    "    M1_0 = 10**11.59  # Msun\n",
    "    N_0 = 0.0351\n",
    "    beta_0 = 1.376\n",
    "    gamma_0 = 0.608\n",
    "\n",
    "    #Redshift evolution parameters\n",
    "    M1 = M1_0\n",
    "    N = N_0\n",
    "    beta = beta_0\n",
    "    gamma = gamma_0\n",
    "\n",
    "    #Compute stellar mass using Moster+ relation\n",
    "    M_halo_ratio = M_halo / M1\n",
    "    M_star = 2 * N * M_halo / ((M_halo_ratio**-beta) + (M_halo_ratio**gamma))\n",
    "    \n",
    "    return M_star\n",
    "\n",
    "#LMC Halo Mass\n",
    "M_halo_LMC = 3e10  # Msun\n",
    "\n",
    "# Compute expected stellar mass for the LMC\n",
    "M_star_LMC_expected = moster_relation(M_halo_LMC, z=0)\n",
    "\n",
    "#Given observed LMC stellar mass\n",
    "M_star_LMC_observed = 3e9  # Msun\n",
    "\n",
    "#halo mass for LMC using abundance matching\n",
    "def inverse_moster_relation(M_star, z=0):\n",
    "    \"\"\"\n",
    "    Estimate the expected halo mass given a stellar mass using the inverse Moster+ 2013 relation.\n",
    "\n",
    "    Parameters:\n",
    "    -----------\n",
    "    M_star : float\n",
    "        Stellar mass in Msun\n",
    "    z : float\n",
    "        Redshift (default z=0)\n",
    "\n",
    "    Returns:\n",
    "    --------\n",
    "    M_halo : float\n",
    "        Halo mass in Msun\n",
    "    \"\"\"\n",
    "    def func(M_halo):\n",
    "        return moster_relation(M_halo, z) - M_star\n",
    "\n",
    "\n",
    "    M_halo_guess = 1e11  # Msun\n",
    "\n",
    "\n",
    "    M_halo_solution = fsolve(func, M_halo_guess)\n",
    "    \n",
    "    return M_halo_solution[0]\n",
    "\n",
    "#halo mass for LMC\n",
    "M_halo_LMC_expected = inverse_moster_relation(M_star_LMC_observed, z=0)"
   ]
  },
  {
   "cell_type": "code",
   "execution_count": 16,
   "metadata": {},
   "outputs": [
    {
     "name": "stdout",
     "output_type": "stream",
     "text": [
      "Expected Stellar Mass of LMC (ΛCDM): 6.16e+07 Msun\n",
      "Observed Stellar Mass of LMC: 3.00e+09 Msun\n",
      "Expected Halo Mass of LMC from Abundance Matching: 1.65e+11 Msun\n"
     ]
    }
   ],
   "source": [
    "print(f\"Expected Stellar Mass of LMC (ΛCDM): {M_star_LMC_expected:.2e} Msun\")\n",
    "print(f\"Observed Stellar Mass of LMC: {M_star_LMC_observed:.2e} Msun\")\n",
    "print(f\"Expected Halo Mass of LMC from Abundance Matching: {M_halo_LMC_expected:.2e} Msun\")"
   ]
  },
  {
   "cell_type": "markdown",
   "metadata": {},
   "source": [
    "# Q2\n",
    "\n",
    "## A) \n",
    "What is the expected stellar mass of an L* galaxy at z=0? \n",
    "\n",
    "## B)\n",
    "What is the expected stellar mass of an L* galaxy at z = 2? "
   ]
  },
  {
   "cell_type": "code",
   "execution_count": 17,
   "metadata": {
    "collapsed": true
   },
   "outputs": [
    {
     "name": "stdout",
     "output_type": "stream",
     "text": [
      "Expected Stellar Mass of L* Galaxy at z=0: 3.43e+10 Msun\n",
      "Expected Stellar Mass of L* Galaxy at z=2: 9.22e+09 Msun\n"
     ]
    }
   ],
   "source": [
    "# Given halo masses for L* galaxies\n",
    "M_halo_Lstar_z0 = 1e12  #Msun (L* halo mass at z=0)\n",
    "M_halo_Lstar_z2 = 3e11  #Msun (L* halo mass at z=2)\n",
    "\n",
    "M_star_Lstar_z0 = moster_relation(M_halo_Lstar_z0, z=0)\n",
    "M_star_Lstar_z2 = moster_relation(M_halo_Lstar_z2, z=2)\n",
    "print(f\"Expected Stellar Mass of L* Galaxy at z=0: {M_star_Lstar_z0:.2e} Msun\")\n",
    "print(f\"Expected Stellar Mass of L* Galaxy at z=2: {M_star_Lstar_z2:.2e} Msun\")"
   ]
  },
  {
   "cell_type": "code",
   "execution_count": null,
   "metadata": {},
   "outputs": [],
   "source": []
  }
 ],
 "metadata": {
  "kernelspec": {
   "display_name": "base",
   "language": "python",
   "name": "python3"
  },
  "language_info": {
   "codemirror_mode": {
    "name": "ipython",
    "version": 3
   },
   "file_extension": ".py",
   "mimetype": "text/x-python",
   "name": "python",
   "nbconvert_exporter": "python",
   "pygments_lexer": "ipython3",
   "version": "3.11.5"
  }
 },
 "nbformat": 4,
 "nbformat_minor": 2
}
