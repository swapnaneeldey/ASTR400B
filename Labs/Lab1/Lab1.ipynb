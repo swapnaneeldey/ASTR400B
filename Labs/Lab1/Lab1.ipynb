{
 "cells": [
  {
   "cell_type": "markdown",
   "metadata": {},
   "source": [
    "# In Class Lab 1\n",
    "\n",
    "### Due by midnight, thursday in your github repository 'Labs/Lab1' folder\n"
   ]
  },
  {
   "cell_type": "code",
   "execution_count": 1,
   "metadata": {},
   "outputs": [],
   "source": [
    "# Import Modules \n",
    "import numpy as np # import numpy\n",
    "import astropy.units as u # import astropy units\n",
    "from astropy import constants as const # import astropy constants"
   ]
  },
  {
   "cell_type": "markdown",
   "metadata": {},
   "source": [
    "### Astropy Units:  https://docs.astropy.org/en/stable/units/index.html"
   ]
  },
  {
   "cell_type": "markdown",
   "metadata": {},
   "source": [
    "\n",
    "## Part A:  The Local Standard of Rest\n",
    "Proper motion of Sgr A* from Reid & Brunthaler 2004\n",
    "$\\mu = 6.379$ mas/yr \n",
    "\n",
    "Peculiar motion of the sun, $v_\\odot$ = 12.24 km/s  (Schonrich 2010)\n",
    "\n",
    "\n",
    "$v_{tan} = 4.74 \\frac{\\mu}{\\rm mas/yr} \\frac{R_o}{\\rm kpc} = V_{LSR} + v_\\odot$\n",
    "\n",
    "\n",
    "### a)\n",
    "\n",
    "Create a function called VLSR to compute the local standard of res (V$_{LSR}$).\n",
    "\n",
    "The function should take as input: the solar radius (R$_o$), the proper motion (mu)\n",
    "and the peculiar motion of the sun in the $v_\\odot$ direction.\n",
    "\n",
    "Compute V$_{LSR}$ using three different values R$_o$: \n",
    "1. Water Maser Distance for the Sun :  R$_o$ = 8.34 kpc   (Reid 2014 ApJ 783) \n",
    "2. GRAVITY Collaboration Distance for the Sun:  R$_o$ = 8.178 kpc   (Abuter+2019 A&A 625)\n",
    "3. Value for Distance to Sun listed in Sparke & Gallagher : R$_o$ = 7.9 kpc \n"
   ]
  },
  {
   "cell_type": "code",
   "execution_count": 2,
   "metadata": {},
   "outputs": [],
   "source": [
    "def VLSR(sol_rad, prop_mot = 6.379, pec_mot = 12.24*u.km/u.s):\n",
    "    \"\"\"function to calculate the Velocity at the local standard of rest.\n",
    "        \n",
    "        Three inputs: solar radius (sol_rad) in kpc which is the distance of the sun from the galactic center\n",
    "        the proper motion (prop_mot) of Sag A* (mas/yr). Default is from Reid & Brunthaler 2004.\n",
    "        and the peculiar motion of the sun (prop_mot) in v direction in km/s.\n",
    "        \n",
    "        output: returns V_LSR in km/s\"\"\"\n",
    "    vlsr = (4.74*prop_mot*(sol_rad/u.kpc)*u.km/u.s-pec_mot)\n",
    "    return vlsr\n",
    "\n"
   ]
  },
  {
   "cell_type": "code",
   "execution_count": 4,
   "metadata": {},
   "outputs": [
    {
     "name": "stdout",
     "output_type": "stream",
     "text": [
      "water masor: 239.932 km / s\n",
      "GRAVITY collaboration: 235.034 km / s\n",
      "Sparke and Gallagher: 226.628 km / s\n"
     ]
    }
   ],
   "source": [
    "\n",
    "print(\"water masor:\", np.round(VLSR(8.34*u.kpc),3)) #Water Maser Distance for the Sun : R = 8.34 kpc (Reid 2014 ApJ 783)\n",
    "print(\"GRAVITY collaboration:\", np.round(VLSR(8.178*u.kpc),3)) #GRAVITY Collaboration Distance for the Sun: R = 8.178 kpc (Abuter+2019 A&A 625)\n",
    "print(\"Sparke and Gallagher:\", np.round(VLSR(7.9*u.kpc),3)) #Value for Distance to Sun listed in Sparke & Gallagher : R = 7.9 kpc\n"
   ]
  },
  {
   "cell_type": "code",
   "execution_count": 7,
   "metadata": {},
   "outputs": [],
   "source": [
    "#Defining the VLSR of the suns orbit about Sgr A* according to GRAVITY collaboration.\n",
    "\n",
    "VLSR_Abuter = np.round(VLSR(8.178*u.kpc),3)"
   ]
  },
  {
   "cell_type": "markdown",
   "metadata": {},
   "source": [
    "### b)\n",
    "\n",
    "compute the orbital period of the sun in Gyr using R$_o$ from the GRAVITY Collaboration (assume circular orbit)\n",
    "\n",
    "Note that 1 km/s $\\sim$ 1kpc/Gyr"
   ]
  },
  {
   "cell_type": "code",
   "execution_count": 9,
   "metadata": {
    "scrolled": true
   },
   "outputs": [],
   "source": [
    "#Defining mass of Sgr A* since its the main mass confined within the orbit of the sun.\n",
    "sgr_mass = 4.2e6*const.M_sun\n",
    "\n",
    "def TorbSun(R_o, Vc):\n",
    "    \"\"\"Function that computes the orbital period of the sun\n",
    "    T = 2 pi R/V\n",
    "    Inputs : R_o (astropy quantity) distance to the galactic center from the sun\n",
    "             Vc (astropy quantity) velocity of the sun in the v direction\n",
    "             \n",
    "    outputs: orbital period (astropy quantity) in Gyr of the sun\"\"\"\n",
    "\n",
    "    VkpcGyr = Vc.to(u.kpc/u.Gyr)\n",
    "    T = 2*np.pi*R_o/VkpcGyr\n",
    "    return T\n",
    "\n",
    "#Defining the radius of the suns orbit (in kpc) about Sgr A* according to GRAVITY collaboration.\n",
    "r_o = 8.178*u.kpc\n",
    "VsunPec = 12.24*u.km/u.s\n",
    "Vsun = VLSR_Abuter + VsunPec\n",
    "    "
   ]
  },
  {
   "cell_type": "code",
   "execution_count": 12,
   "metadata": {},
   "outputs": [
    {
     "data": {
      "text/latex": [
       "$0.20318662 \\; \\mathrm{Gyr}$"
      ],
      "text/plain": [
       "<Quantity 0.20318662 Gyr>"
      ]
     },
     "execution_count": 12,
     "metadata": {},
     "output_type": "execute_result"
    }
   ],
   "source": [
    "#Orbital period of the sun according to Gravity collaboration results\n",
    "T_Abuter = TorbSun(r_o, Vsun)\n",
    "T_Abuter"
   ]
  },
  {
   "cell_type": "markdown",
   "metadata": {},
   "source": [
    "### c)\n",
    "\n",
    "Compute the number of rotations about the GC over the age of the universe (13.8 Gyr)"
   ]
  },
  {
   "cell_type": "code",
   "execution_count": 13,
   "metadata": {},
   "outputs": [
    {
     "data": {
      "text/latex": [
       "$67.917859 \\; \\mathrm{}$"
      ],
      "text/plain": [
       "<Quantity 67.91785914>"
      ]
     },
     "execution_count": 13,
     "metadata": {},
     "output_type": "execute_result"
    }
   ],
   "source": [
    "#assuming the present state of the milky way at the beginning of the universe.\n",
    "age_of_universe = 13.8 * u.Gyr\n",
    "number_of_rotation = (age_of_universe / T_Abuter)\n",
    "number_of_rotation"
   ]
  },
  {
   "cell_type": "markdown",
   "metadata": {},
   "source": [
    "## Part B  Dark Matter Density Profiles\n",
    "\n",
    "### a)\n",
    "Try out Fitting Rotation Curves \n",
    "[here](http://wittman.physics.ucdavis.edu/Animations/RotationCurve/GalacticRotation.html)\n",
    "\n",
    "\n",
    "### b)\n",
    "\n",
    "\n",
    "In the Isothermal Sphere model, what is the mass enclosed within the solar radius (R$_o$) in units of M$_\\odot$? \n",
    "\n",
    "Recall that for the Isothermal sphere :\n",
    "$\\rho(r) = \\frac{V_{LSR}^2}{4\\pi G r^2}$\n",
    "\n",
    "Where $G$ = 4.4985e-6 kpc$^3$/Gyr$^2$/M$_\\odot$, r is in kpc and $V_{LSR}$ is in km/s\n",
    "\n",
    "What about at 260 kpc (in units of  M$_\\odot$) ? "
   ]
  },
  {
   "cell_type": "code",
   "execution_count": 20,
   "metadata": {},
   "outputs": [],
   "source": [
    "G = const.G.to(u.kpc**3/u.Gyr**2/u.solMass)\n",
    "\n",
    "def mass_enc(r_o):\n",
    "    \"\"\"Function to canculate the mass enclosed in a isothermal shpere at a distance r.\n",
    "    M(r) = VLSR^2/G*r \n",
    "    \n",
    "    Inputs: r_o (astropy quantity in kpc)\n",
    "    \n",
    "    output: M (astropy quant) mass enclosed within r (Msun)\"\"\"\n",
    "    M_enc = (VLSR(8.178*u.kpc)**2)*r_o/G *u.s**2/u.km**2* (u.kpc**2/u.Gyr**2)\n",
    "    return M_enc\n"
   ]
  },
  {
   "cell_type": "code",
   "execution_count": 21,
   "metadata": {},
   "outputs": [
    {
     "data": {
      "text/latex": [
       "$1.0042451 \\times 10^{11} \\; \\mathrm{M_{\\odot}}$"
      ],
      "text/plain": [
       "<Quantity 1.00424507e+11 solMass>"
      ]
     },
     "execution_count": 21,
     "metadata": {},
     "output_type": "execute_result"
    }
   ],
   "source": [
    "# compute the mass enclosed within the Ro (grav collab)\n",
    "mass_enc(r_o)"
   ]
  },
  {
   "cell_type": "code",
   "execution_count": 30,
   "metadata": {},
   "outputs": [
    {
     "data": {
      "text/latex": [
       "$3.1927576 \\times 10^{12} \\; \\mathrm{M_{\\odot}}$"
      ],
      "text/plain": [
       "<Quantity 3.19275761e+12 solMass>"
      ]
     },
     "execution_count": 30,
     "metadata": {},
     "output_type": "execute_result"
    }
   ],
   "source": [
    "# compute the mass enclosed within the 260 kpc\n",
    "mIso260 = mass_enc(260*u.kpc)\n",
    "mIso260\n"
   ]
  },
  {
   "cell_type": "markdown",
   "metadata": {},
   "source": [
    "## c) \n",
    "\n",
    "The Leo I satellite is one of the fastest moving satellite galaxies we know. \n",
    "\n",
    "\n",
    "It is moving with 3D velocity of magnitude: Vtot = 196 km/s at a distance of 260 kpc (Sohn 2013 ApJ 768)\n",
    "\n",
    "If we assume that Leo I is moving at the escape speed:\n",
    "\n",
    "$v_{esc}^2 = 2|\\Phi| = 2 \\int G \\frac{\\rho(r)}{r}dV $ \n",
    "\n",
    "and assuming the Milky Way is well modeled by a Hernquist Sphere with a scale radius of $a$= 30 kpc, what is the minimum mass of the Milky Way (in units of M$_\\odot$) ?  \n",
    "\n",
    "How does this compare to estimates of the mass assuming the Isothermal Sphere model at 260 kpc (from your answer above)"
   ]
  },
  {
   "cell_type": "code",
   "execution_count": 26,
   "metadata": {},
   "outputs": [],
   "source": [
    "# potential for a Hernquist Sphere\n",
    "# Phi = -G*M/(r+a)\n",
    "\n",
    "#Escape Speed becomes: \n",
    "#VEsc^2 = 2*G*M/(r+a)\n",
    "\n",
    "#rearrabge for M\n",
    "#M = vesc^2/2/G*(r+a)\n",
    "\n",
    "def massHernVesc(vesc, r, a = 30*u.kpc):\n",
    "    \"\"\"This function determines the total dark matter mass needed given an escape speed, assuming a Hernquist profile.\n",
    "     M = vesc^2/2/G*(r+a)\n",
    "     \n",
    "     Inputs:\n",
    "        vesc (astropy quantity) escape speed (or dpeed of satellite) (km/s)\n",
    "        r: (astropy quantity) distance from the galactic center\n",
    "        a: (astropy quant) the hernquist scale length (kpc) default value of 30kpc\n",
    "        \n",
    "    Outputs:\n",
    "        M (astropy quantity) mass within r (Msun)\"\"\"\n",
    "    \n",
    "    vescKpcGyr = vesc.to(u.kpc/u.Gyr)\n",
    "\n",
    "    M = vescKpcGyr**2/2/G*(r+a)\n",
    "\n",
    "    return M\n"
   ]
  },
  {
   "cell_type": "code",
   "execution_count": 27,
   "metadata": {},
   "outputs": [],
   "source": [
    "Vleo = 196 *u.km/u.s\n",
    "r = 260*u.kpc"
   ]
  },
  {
   "cell_type": "code",
   "execution_count": 29,
   "metadata": {},
   "outputs": [
    {
     "name": "stdout",
     "output_type": "stream",
     "text": [
      "1.30e+12 solMass\n"
     ]
    }
   ],
   "source": [
    "MleoI = massHernVesc(Vleo,r)\n",
    "print(f\"{MleoI:.2e}\")"
   ]
  },
  {
   "cell_type": "code",
   "execution_count": 32,
   "metadata": {},
   "outputs": [
    {
     "data": {
      "text/latex": [
       "$2.4651701 \\; \\mathrm{}$"
      ],
      "text/plain": [
       "<Quantity 2.46517011>"
      ]
     },
     "execution_count": 32,
     "metadata": {},
     "output_type": "execute_result"
    }
   ],
   "source": [
    "#overestimating done my isothermal sphere model\n",
    "mIso260/MleoI"
   ]
  },
  {
   "cell_type": "code",
   "execution_count": null,
   "metadata": {},
   "outputs": [],
   "source": []
  }
 ],
 "metadata": {
  "kernelspec": {
   "display_name": "base",
   "language": "python",
   "name": "python3"
  },
  "language_info": {
   "codemirror_mode": {
    "name": "ipython",
    "version": 3
   },
   "file_extension": ".py",
   "mimetype": "text/x-python",
   "name": "python",
   "nbconvert_exporter": "python",
   "pygments_lexer": "ipython3",
   "version": "3.11.5"
  }
 },
 "nbformat": 4,
 "nbformat_minor": 4
}
