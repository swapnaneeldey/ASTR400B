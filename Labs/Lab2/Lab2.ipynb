{
 "cells": [
  {
   "cell_type": "code",
   "execution_count": 3,
   "metadata": {},
   "outputs": [],
   "source": [
    "# ASTR 400 B \n",
    "# In Class Lab 2\n",
    "\n",
    "# Import Modules \n",
    "import numpy as np\n",
    "import matplotlib\n",
    "import matplotlib.pyplot as plt\n",
    "from scipy.integrate import quad # For integration\n",
    "# Documentation and examples for quad : \n",
    "# https://docs.scipy.org/doc/scipy/reference/generated/scipy.integrate.quad.html\n",
    "# https://www.tutorialspoint.com/scipy/scipy_integrate.htm"
   ]
  },
  {
   "cell_type": "markdown",
   "metadata": {
    "collapsed": true,
    "jupyter": {
     "outputs_hidden": true
    }
   },
   "source": [
    "## Part A:  Schechter Fxn\n",
    "\n",
    "The galaxy luminosity function in the nearby universe is well described by a Schechter Function:\n",
    "\n",
    "\\begin{equation}\n",
    "\\Phi(M)dM = ( 0.4 \\, ln10 ) \\, \\phi_\\ast \\, 10^{0.4(M_\\ast - M)(\\alpha +1)} e^{-10^{0.4(M_\\ast - M)}} dM\n",
    "\\end{equation}\n",
    "\n",
    "With the following parameters from Smith+(2009 MNRAS 397, 868),  for Field Galaxies in SDSS + UKIRT at z$\\sim$0.1 in the Kband:\n",
    "\n",
    "\n",
    " $\\phi_\\ast$ =1.66 $  \\times 10^{-2}$  $h^3$ Mpc$^{-3}$\n",
    "\n",
    " $\\alpha$ =  -0.81 \n",
    "\n",
    "\n",
    "  M$_\\ast$ =  M$_k^\\ast$= -23.19  - 5*log($h$)\n",
    "  \n",
    " $h$ = the Hubble constant in units of 100 km/s/Mpc . At z=0 this is 0.7. But we are going to se $h$=1 here. Units will then be in \"comoving\" coordinates.\n",
    "  \n",
    "  This function is defined for you below:"
   ]
  },
  {
   "cell_type": "code",
   "execution_count": 4,
   "metadata": {},
   "outputs": [],
   "source": [
    "def schechter_M(m,phi_star=0.0166,m_star=-23.19,alpha=-0.81):\n",
    "    \"\"\" Function that computes the Schechter Luminosity Function \n",
    "    for a given magnitude, assuming default parameters for field \n",
    "    galaxies in SDSS at z~0.1 in the Kband (Smith+2009)\n",
    "    \n",
    "    Inputs\n",
    "        m : an array of floats\n",
    "            an array of Kband magnitudes  (assumes -5*log(h) implicitly)\n",
    "        phi_star:  float\n",
    "            normalization of Schechter fxn (h^3 Mpc^-3)\n",
    "        m_star:  float \n",
    "            knee of the Schechter fxn (K-band magnitude, \n",
    "            assumes -5*log(h) implicitly)\n",
    "        alpha:  float\n",
    "            faint end slope of the Schechter fxn\n",
    "    \n",
    "    Output:\n",
    "        schechterM: float\n",
    "            number density of galaxies (comoving units) \n",
    "            at the given magnitude m - 5*log(h)\n",
    "            \n",
    "\n",
    "    \"\"\"\n",
    "    # You should divide up long functions instead of writing them as one long set\n",
    "    \n",
    "    # Grouping all constants together\n",
    "    a = 0.4*np.log(10)*phi_star\n",
    "    \n",
    "    # The Power Law, controlling the faint end slope\n",
    "    b = 10**(0.4*(m_star-m)*(alpha+1.0)) \n",
    "    \n",
    "    # The Exponential controlling the high mass end behavior\n",
    "    c = np.exp(-10**(0.4*(m_star-m))) \n",
    "    \n",
    "    # schechter function for the given magnitude\n",
    "    schechterM = a*b*c \n",
    "    # i.e. don't do the below\n",
    "    # return 0.4*np.log(10)*phistar*10**(0.4*(Mstar - M)*(alpha +1.0))*np.exp(-10**(0.4*(Mstar - M)))\n",
    "\n",
    "    return schechterM"
   ]
  },
  {
   "cell_type": "markdown",
   "metadata": {},
   "source": [
    "# Q1 \n",
    "\n",
    "Utilizing the defined function, plot the Schechter Function using the above parameter values over a magnitude range of -17 to -26. \n",
    "Try to reproduce the black solid line in Smith+2009 MNRAS 397,868 [UKIDSS Survey] Figure below.\n",
    "\n",
    "\n",
    "![Smith](./Smith09.png)"
   ]
  },
  {
   "cell_type": "markdown",
   "metadata": {},
   "source": [
    "# Q2 \n",
    "\n",
    "Galaxies in the Virgo Cluster have different parameters, like $\\alpha$=-1.35  (Ferrarese+2016 ApJ 824).\n",
    "\n",
    "Overplot the Schechter Function with this new value of $\\alpha$.  \n",
    "\n",
    "Try a smaller value of $\\alpha = -0.6$.\n",
    "\n",
    "How does the function change?  What does this mean? \n"
   ]
  },
  {
   "cell_type": "code",
   "execution_count": 6,
   "metadata": {},
   "outputs": [
    {
     "data": {
      "text/plain": [
       "array([-26. , -25.9, -25.8, -25.7, -25.6, -25.5, -25.4, -25.3, -25.2,\n",
       "       -25.1, -25. , -24.9, -24.8, -24.7, -24.6, -24.5, -24.4, -24.3,\n",
       "       -24.2, -24.1, -24. , -23.9, -23.8, -23.7, -23.6, -23.5, -23.4,\n",
       "       -23.3, -23.2, -23.1, -23. , -22.9, -22.8, -22.7, -22.6, -22.5,\n",
       "       -22.4, -22.3, -22.2, -22.1, -22. , -21.9, -21.8, -21.7, -21.6,\n",
       "       -21.5, -21.4, -21.3, -21.2, -21.1, -21. , -20.9, -20.8, -20.7,\n",
       "       -20.6, -20.5, -20.4, -20.3, -20.2, -20.1, -20. , -19.9, -19.8,\n",
       "       -19.7, -19.6, -19.5, -19.4, -19.3, -19.2, -19.1, -19. , -18.9,\n",
       "       -18.8, -18.7, -18.6, -18.5, -18.4, -18.3, -18.2, -18.1, -18. ,\n",
       "       -17.9, -17.8, -17.7, -17.6, -17.5, -17.4, -17.3, -17.2, -17.1,\n",
       "       -17. ])"
      ]
     },
     "execution_count": 6,
     "metadata": {},
     "output_type": "execute_result"
    }
   ],
   "source": [
    "# Create an array to store Kband Magnitudes from -26 to -17\n",
    "mk = np.arange(-26,-16.99,0.1) # this is a float array\n",
    "mk\n"
   ]
  },
  {
   "cell_type": "code",
   "execution_count": 15,
   "metadata": {},
   "outputs": [
    {
     "data": {
      "image/png": "[encoded data removed]",
      "text/plain": [
       "<Figure size 700x700 with 1 Axes>"
      ]
     },
     "metadata": {},
     "output_type": "display_data"
    }
   ],
   "source": [
    "# Plot the Schechter Function\n",
    "\n",
    "fig = plt.figure(figsize=(7,7))  # sets the scale of the figure\n",
    "ax = plt.subplot(111) \n",
    "\n",
    "# Plot the default values (y axis log)\n",
    "# ADD HERE\n",
    "ax.semilogy(mk, schechter_M(mk), color='blue', linewidth=5, label='Smith+2009')\n",
    "# Q2 solutions: change alpha\n",
    "# ADD HERE\n",
    "ax.semilogy(mk, schechter_M(mk,alpha=-1.35), color='red', linewidth=5, linestyle=\"--\", label=r'Smith+2009, $\\alpha$=-1.35')\n",
    "\n",
    "ax.semilogy(mk, schechter_M(mk,alpha=-0.6), color='k', linewidth=5, linestyle=\"--\", label=r'Smith+2009, $\\alpha$=-0.6')\n",
    "\n",
    "# Add labels\n",
    "plt.xlabel(r'M$_k$ + 5Log($h$)', fontsize=22)\n",
    "plt.ylabel(r'$\\Phi$ (Mpc$^{-3}h^3$/mag)', fontsize=22)\n",
    "\n",
    "#set axis limits\n",
    "plt.xlim(-17,-26)\n",
    "\n",
    "#adjust tick label font size\n",
    "label_size = 22\n",
    "matplotlib.rcParams['xtick.labelsize'] = label_size \n",
    "matplotlib.rcParams['ytick.labelsize'] = label_size\n",
    "\n",
    "# add a legend with some customizations.\n",
    "legend = ax.legend(loc='upper right',fontsize='small')\n",
    "\n",
    "# Save to a file\n",
    "#plt.savefig('Schechter_M.png')\n",
    "\n"
   ]
  },
  {
   "cell_type": "markdown",
   "metadata": {},
   "source": [
    "# Q3\n",
    "\n",
    "Build a function to compute the Schechter Function in terms of luminosity.\n",
    "\n",
    "Use `quad` to numerically integrate the function to compute the fraction of the luminosity that lies above L* in the following three cases:  \n",
    "\n",
    "$\\alpha$=-0.7 (default), $\\alpha$=-0.6, $\\alpha$=1.85. \n",
    "\n",
    "\n",
    "Schechter Function $\\Phi(L) = \\frac{n_\\ast}{L_\\ast} (\\frac{L}{L_\\ast})  ^{\\alpha}  e^{-L/L_\\ast}$\n",
    "\n",
    "$n_\\ast$ = 0.008  $h^3$ Mpc$^{-3}$\n",
    "\n",
    "$L_\\star = 1.4 \\times 10^{10} L_\\odot$"
   ]
  },
  {
   "cell_type": "code",
   "execution_count": 17,
   "metadata": {},
   "outputs": [],
   "source": [
    "def schechter_L(lum, n_star=8e-3, l_star=1.4e10, alpha=-0.7):\n",
    "    \"\"\" Function that computes the Schechter Luminosity Function\n",
    "        for a given luminosity. Defaults are from Sparke & Gallagher \n",
    "    \n",
    "    Inputs:\n",
    "        lum: array of floats\n",
    "            Array of Luminosities (Lsun)\n",
    "        \n",
    "        n_star: float\n",
    "            Normalization of the Schechter fxn (h^3 Mpc^-3)\n",
    "            \n",
    "        l_star: float\n",
    "            Characteristic luminosity (knee of the Schechter fxn) \n",
    "            in units of Lsun\n",
    "            \n",
    "        alpha: float\n",
    "            Faint end slope\n",
    "            \n",
    "     Outputs:\n",
    "         schechterL: float\n",
    "             number density of galaxies for a given luminosity \n",
    "             (h^3 * Mpc^-3/Lsun)\n",
    "    \n",
    "    \"\"\"\n",
    "    \n",
    "    # Break down the equation into parts\n",
    "    # constants here\n",
    "    a = n_star/l_star\n",
    "\n",
    "    # Bright end\n",
    "    b = np.exp(-lum/l_star)\n",
    "\n",
    "    #faint end\n",
    "    c = (lum/l_star)**alpha\n",
    "    \n",
    "    \n",
    "    schechterL = a*b*c # Template  ADD HERE\n",
    "    \n",
    "    return schechterL\n",
    "\n"
   ]
  },
  {
   "cell_type": "code",
   "execution_count": 18,
   "metadata": {},
   "outputs": [
    {
     "name": "stdout",
     "output_type": "stream",
     "text": [
      "30\n"
     ]
    }
   ],
   "source": [
    "# Understanding lambda functions\n",
    "# Short cut -- defines and evaluates a function in one line ! \n",
    "\n",
    "# lambda says that a function follows, where the variables are a and b, \n",
    "# and the function to be evaluated is a*b\n",
    "x = lambda a, b : a * b\n",
    "print(x(5, 6))"
   ]
  },
  {
   "cell_type": "code",
   "execution_count": 19,
   "metadata": {},
   "outputs": [
    {
     "name": "stdout",
     "output_type": "stream",
     "text": [
      "(2.0, 2.220446049250313e-14)\n",
      "(2.0, 2.220446049250313e-14)\n",
      "(2.0, 2.220446049250313e-14)\n"
     ]
    }
   ],
   "source": [
    "# Example Usage of quad and lambda\n",
    "\n",
    "# Version 1\n",
    "print(quad(np.sin, 0, np.pi))\n",
    "\n",
    "# Version 2\n",
    "f = lambda x: np.sin(x)\n",
    "print(quad(f, 0, np.pi))\n",
    "\n",
    "# Version 3\n",
    "def ex(x):\n",
    "    return np.sin(x) \n",
    "\n",
    "print(quad(lambda x: ex(x), 0, np.pi))\n",
    "\n"
   ]
  },
  {
   "cell_type": "code",
   "execution_count": 22,
   "metadata": {},
   "outputs": [
    {
     "name": "stdout",
     "output_type": "stream",
     "text": [
      "49678654.46727107\n",
      "100516717.986282\n",
      "ratio (>L*)/Ltotal =  0.494\n"
     ]
    }
   ],
   "source": [
    "# what fraction of the integrated luminosity desntity lies above L*?\n",
    "# alpha = -0.7\n",
    "\n",
    "l_upper = quad(lambda L: L*schechter_L(L), 1.4e10, 1e14)\n",
    "print(l_upper[0])\n",
    "\n",
    "#total luminosity density\n",
    "l_total = quad(lambda L: L*schechter_L(L), 0.1, 1e14)\n",
    "print(l_total[0])\n",
    "\n",
    "ratio = l_upper[0]/l_total[0]\n",
    "print(\"ratio (>L*)/Ltotal = \", np.round(ratio,3))\n"
   ]
  },
  {
   "cell_type": "markdown",
   "metadata": {},
   "source": [
    "## Part B: IMF \n",
    "\n",
    "Create a function called `imf` that defines the IMF: \n",
    "\n",
    "\\begin{equation}\n",
    "\\xi(M) = \\xi_0 (M/M_\\odot)^{-\\alpha}\n",
    "\\end{equation}\n",
    "\n",
    "\n",
    "where the default is the Salpeter IMF $\\alpha = 2.35$ \n",
    "\n",
    "The function should take as input an array of stellar masses, M, and a minimum and maximum mass interval. \n",
    "\n",
    "You will need to determine the normalization, $\\xi_0$, by integrating this equation over mass from m_min= 0.1 to m_max = 120 M$_\\odot$\n",
    "and setting the result to 1.  \n",
    "\n",
    "The function should then return $\\xi(M)$, which will now represent the fractional number of stars. \n",
    "\n",
    "Integration:\n",
    "\n",
    "`quad(lambda x:  fxn(x),xmin,xmax)`\n",
    "\n",
    "quad returns an array with 2 values. you want the first value. \n",
    "Note I've used a \"lambda\" expression.   Python's lambda expressions allow a function to be created and passed around all in one line of code"
   ]
  },
  {
   "cell_type": "code",
   "execution_count": null,
   "metadata": {},
   "outputs": [],
   "source": [
    "def imf(m, m_min=0.1, m_max=120, alpha=2.35):\n",
    "    \n",
    "    ''' Function that defines the IMF (default is Salpeter). \n",
    "        The function is normalized such that \n",
    "        it returns the fraction of stars within some mass \n",
    "        interval m_min to m_max.\n",
    "        \n",
    "        Inputs:\n",
    "            m: array of floats \n",
    "                Array of stellar masses (Msun)\n",
    "            \n",
    "            m_min:  float\n",
    "                minimum mass (Msun)\n",
    "            \n",
    "            m_max : float\n",
    "                maximal mass (Msun)\n",
    "                \n",
    "            alpha : float\n",
    "                power law. default is the Salpeter IMF\n",
    "                \n",
    "        Output:\n",
    "            norm_imf: float\n",
    "                normalized fraction of stars at a given m\n",
    "    '''\n",
    "    \n",
    "    norm_imf = 0 # Template ADD HERE\n",
    "    \n",
    "    \n",
    "    return norm_imf\n",
    "    "
   ]
  },
  {
   "cell_type": "markdown",
   "metadata": {},
   "source": [
    "## Q1: \n",
    "Double Check: if you integrate your function from 0.1 to 120 you should return 1.0 \n"
   ]
  },
  {
   "cell_type": "code",
   "execution_count": null,
   "metadata": {},
   "outputs": [],
   "source": []
  },
  {
   "cell_type": "markdown",
   "metadata": {
    "collapsed": true,
    "jupyter": {
     "outputs_hidden": true
    }
   },
   "source": [
    "## Q2: \n",
    "Integrate your normalized function to compute the fractional number of stars with stellar masses greater than the sun and less \n",
    "than 120 M$_\\odot$."
   ]
  },
  {
   "cell_type": "code",
   "execution_count": null,
   "metadata": {},
   "outputs": [],
   "source": []
  },
  {
   "cell_type": "markdown",
   "metadata": {},
   "source": [
    "## Q3:\n",
    "\n",
    "How might you modify the above to return the fraction of MASS in stars from 0.1Msun to 120 Msun ? instead of fraction of the total numbers of stars."
   ]
  },
  {
   "cell_type": "code",
   "execution_count": null,
   "metadata": {},
   "outputs": [],
   "source": []
  },
  {
   "cell_type": "code",
   "execution_count": null,
   "metadata": {},
   "outputs": [],
   "source": []
  }
 ],
 "metadata": {
  "kernelspec": {
   "display_name": "base",
   "language": "python",
   "name": "python3"
  },
  "language_info": {
   "codemirror_mode": {
    "name": "ipython",
    "version": 3
   },
   "file_extension": ".py",
   "mimetype": "text/x-python",
   "name": "python",
   "nbconvert_exporter": "python",
   "pygments_lexer": "ipython3",
   "version": "3.11.5"
  }
 },
 "nbformat": 4,
 "nbformat_minor": 4
}
