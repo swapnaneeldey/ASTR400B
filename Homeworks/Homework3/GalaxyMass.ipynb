{
 "cells": [
  {
   "cell_type": "code",
   "execution_count": 115,
   "metadata": {},
   "outputs": [],
   "source": [
    "import numpy as np \n",
    "import pandas as pd \n",
    "from ReadFile import Read\n",
    "import astropy.units as u\n",
    "from tabulate import tabulate\n"
   ]
  },
  {
   "cell_type": "code",
   "execution_count": 77,
   "metadata": {},
   "outputs": [],
   "source": [
    "def ComponentMass(filename, ptype):\n",
    "    \"\"\"\n",
    "    Calculate the total mass of a specific component of a galaxy.\n",
    "\n",
    "    Imputs:\n",
    "    filename (str): The path to the file containing the galaxy data.\n",
    "    ptype (int): The particle type for which the mass is to be calculated.\n",
    "                The particle types are: Halo type (1), Disk type (2), Bulge type (3).\n",
    "\n",
    "    Returns:\n",
    "    total mass str: The total mass of the specified component formatted in scientific notation with units of solar masses.\n",
    "    \"\"\"\n",
    "    #Read in the file\n",
    "    time, total, data = Read(filename)\n",
    "    index = np.where(data[\"type\"] == ptype) #finding all the indexs in the data corresponding to particle type inputted.\n",
    "    mass = data[\"m\"][index]/100 #calculating the mass of the particles in 10^12 solar masses.\n",
    "    total_mass = np.round(np.sum(mass), 3)  # total masses of the particles to get the total mass of the galaxy component.\n",
    "    final_mass = f\"{float(total_mass):.3f} x 10^{12} {u.M_sun}\"\n",
    "    return final_mass\n"
   ]
  },
  {
   "cell_type": "code",
   "execution_count": 117,
   "metadata": {},
   "outputs": [],
   "source": [
    "filename = \"/Users/swapnaneeldey/Desktop/ASTR400Bfiles/MW_000.txt\"\n",
    "halo = ComponentMass(filename, 2)#Halo\n"
   ]
  },
  {
   "cell_type": "code",
   "execution_count": 118,
   "metadata": {},
   "outputs": [
    {
     "name": "stdout",
     "output_type": "stream",
     "text": [
      "MW Halo mass: 1.975 x 10^12 solMass\n",
      "MW Disk mass: 0.075 x 10^12 solMass\n",
      "MW Bulge mass: 0.010 x 10^12 solMass\n",
      "Final total mass of MW: 2.06 x 10^12 solMass\n",
      "baryon fraction of MW: 0.041\n",
      "M31 Halo mass: 1.921 x 10^12 solMass\n",
      "M31 Disk mass: 0.120 x 10^12 solMass\n",
      "M31 Bulge mass: 0.019 x 10^12 solMass\n",
      "Final total mass of M31: 2.06 x 10^12 solMass\n",
      "baryon fraction of M31: 0.067\n",
      "M33 Halo mass: 0.187 x 10^12 solMass\n",
      "M33 Disk mass: 0.009 x 10^12 solMass\n",
      "M33 Bulge mass: 0.000 x 10^12 solMass\n",
      "Final total mass of M33: 0.196 x 10^12 solMass\n",
      "baryon fraction of M33: 0.046\n",
      "Local Group mass: 4.316 x 10^12 solMass\n",
      "baryon fraction of Local Group: 0.054\n"
     ]
    }
   ],
   "source": [
    "local_grp = []  # List to store the total mass of each galaxy in the local group\n",
    "disk = []  # List to store the disk mass of each galaxy\n",
    "buldge = []  # List to store the bulge mass of each galaxy\n",
    "halo = []  # List to store the halo mass of each galaxy\n",
    "\n",
    "# iterating through each of the three galaxies to fill the above lists.\n",
    "for i in range(3):\n",
    "    if i == 0:\n",
    "        filename = \"/Users/swapnaneeldey/Desktop/ASTR400Bfiles/MW_000.txt\" # Path to the file containing the MW data\n",
    "        name = \"MW\"\n",
    "    elif i == 1:\n",
    "        filename = \"/Users/swapnaneeldey/Desktop/ASTR400Bfiles/M31_000.txt\" # Path to the file containing the M31 data\n",
    "        name = \"M31\"\n",
    "    else:\n",
    "        filename = \"/Users/swapnaneeldey/Desktop/ASTR400Bfiles/M33_000.txt\" # Path to the file containing the M33 data\n",
    "        name = \"M33\"\n",
    "    \n",
    "    # Calculate the mass of the halo component\n",
    "    halo_mass = ComponentMass(filename, 1)\n",
    "    print(f\"{name} Halo mass: {halo_mass}\")\n",
    "    \n",
    "    # Calculate the mass of the disk component\n",
    "    disk_mass = ComponentMass(filename, 2)\n",
    "    print(f\"{name} Disk mass: {disk_mass}\")\n",
    "    \n",
    "    # Calculate the mass of the bulge component \n",
    "    if i == 2:\n",
    "        bulge_mass = \"0.000 x 10^12 solMass\" #uing if statement since M33 does not have a bulge component\n",
    "    else:\n",
    "        bulge_mass = ComponentMass(filename, 3)   # Calculate the mass of the bulge component for the rest galaxies\n",
    "    print(f\"{name} Bulge mass: {bulge_mass}\")\n",
    "    \n",
    "    # Append the masses to their respective lists\n",
    "    disk.append(float(disk_mass[0:5]))\n",
    "    buldge.append(float(bulge_mass[0:5]))\n",
    "    halo.append(float(halo_mass[0:5]))\n",
    "    \n",
    "    # Calculate the total mass of the galaxy\n",
    "    total_galaxy_mass = float(halo_mass[0:5]) + float(disk_mass[0:5]) + float(bulge_mass[0:5])\n",
    "    print(f\"Final total mass of {name}:\", total_galaxy_mass, \"x 10^12 solMass\")\n",
    "    \n",
    "    # Append the total mass to the local group list\n",
    "    local_grp.append(total_galaxy_mass)\n",
    "    \n",
    "    # Calculate the baryon fraction of the galaxy\n",
    "    f_b = ((float(disk_mass[0:5]) + float(bulge_mass[0:5])) / total_galaxy_mass)\n",
    "    print(f\"baryon fraction of {name}:\", np.round(f_b, 3))\n",
    "\n",
    "# Calculate and print the total mass of the local group\n",
    "print(\"Local Group mass:\", np.sum(local_grp), \"x 10^12 solMass\")\n",
    "\n",
    "# Calculate and print the baryon fraction of the local group\n",
    "f_b_tot = ((np.sum(disk) + np.sum(buldge)) / np.sum(local_grp))\n",
    "print(\"baryon fraction of Local Group:\", np.round(f_b_tot, 3))"
   ]
  },
  {
   "cell_type": "code",
   "execution_count": null,
   "metadata": {},
   "outputs": [],
   "source": []
  },
  {
   "cell_type": "code",
   "execution_count": null,
   "metadata": {},
   "outputs": [],
   "source": []
  }
 ],
 "metadata": {
  "kernelspec": {
   "display_name": "base",
   "language": "python",
   "name": "python3"
  },
  "language_info": {
   "codemirror_mode": {
    "name": "ipython",
    "version": 3
   },
   "file_extension": ".py",
   "mimetype": "text/x-python",
   "name": "python",
   "nbconvert_exporter": "python",
   "pygments_lexer": "ipython3",
   "version": "3.11.5"
  }
 },
 "nbformat": 4,
 "nbformat_minor": 2
}
