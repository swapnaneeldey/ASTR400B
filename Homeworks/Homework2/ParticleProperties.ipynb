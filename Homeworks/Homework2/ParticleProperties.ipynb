{
 "cells": [
  {
   "cell_type": "code",
   "execution_count": null,
   "id": "e7e25624-1ba5-4db3-8c76-fb2737a9582e",
   "metadata": {},
   "outputs": [
    {
     "ename": "",
     "evalue": "",
     "output_type": "error",
     "traceback": [
      "\u001b[1;31mThe kernel failed to start as '/Users/swapnaneeldey/.conda/envs/blueblobss/lib/python3.9/site-packages/psutil/_psutil_osx.abi3.so' could not be imported from '/Users/swapnaneeldey/.conda/envs/blueblobss/lib/python3.9/site-packages/psutil/_psutil_osx.abi3.so, 0x0002'.\n",
      "\u001b[1;31mClick <a href='https://aka.ms/kernelFailuresModuleImportErrFromFile'>here</a> for more info."
     ]
    }
   ],
   "source": [
    "import numpy as np \n",
    "import astropy.units as u\n",
    "from ReadFile import Read"
   ]
  },
  {
   "cell_type": "code",
   "execution_count": 39,
   "id": "639fbbdb-0270-4162-9f63-15093e189fd2",
   "metadata": {},
   "outputs": [],
   "source": [
    "# This function calculates the three dimensional distance, velocity, and mass of a given particle type.\n",
    "# Inputs: filename (path to the particle file), ptype (type of particle; 1 = Dark Matter, 2 = Disk Stars, 3 = Bulge Stars), pnumber (particle number)\n",
    "# Returns:  three dimensional distance in kpc, velocity in Km/s, and mass of a given particle type in M_0\n",
    "def ParticleInfo(filename, ptype, pnumber):\n",
    "    kms = u.km / u.s #making a unit for km/s\n",
    "    _, _, data = Read(filename) #getting the data of the particles from the function which reads the main file.\n",
    "    index = np.where(data[\"type\"] == ptype) #finding all the indexs in the data corresponding to particle type inputted.\n",
    "    #getting the x,y,z distance of the particles.\n",
    "    x_dist = data[\"x\"][index]\n",
    "    y_dist = data[\"y\"][index]  \n",
    "    z_dist = data[\"z\"][index]\n",
    "    three_dim_dist = np.sqrt(x_dist**2+y_dist**2+z_dist**2) * u.kpc #calculating the 3D distance in kpc\n",
    "    #getting the velocity in x,y,z direction of the particles. \n",
    "    x_vel = data[\"vx\"][index]\n",
    "    y_vel = data[\"vy\"][index]  \n",
    "    z_vel = data[\"vz\"][index]\n",
    "    three_dim_vel = np.sqrt(x_vel**2+y_vel**2+z_vel**2) * kms #calculating the 3D velocity in km/s\n",
    "    mass = data[\"m\"][index]*1e10 #calculating the mass of the particles in solar masses.\n",
    "    return np.around(three_dim_dist[pnumber-1],3), np.around(three_dim_vel[pnumber-1],3), mass[pnumber-1] #returning the value for the particle number wanted.\n",
    "\n"
   ]
  },
  {
   "cell_type": "markdown",
   "id": "d87464b0-d44f-4589-96af-ee8dc0d108de",
   "metadata": {},
   "source": [
    "##Checking the function"
   ]
  },
  {
   "cell_type": "code",
   "execution_count": null,
   "id": "9b29d542-4376-44bd-a245-b3d2a9fdc6a4",
   "metadata": {},
   "outputs": [
    {
     "ename": "",
     "evalue": "",
     "output_type": "error",
     "traceback": [
      "\u001b[1;31mThe kernel failed to start as '/Users/swapnaneeldey/.conda/envs/blueblobss/lib/python3.9/site-packages/psutil/_psutil_osx.abi3.so' could not be imported from '/Users/swapnaneeldey/.conda/envs/blueblobss/lib/python3.9/site-packages/psutil/_psutil_osx.abi3.so, 0x0002'.\n",
      "\u001b[1;31mClick <a href='https://aka.ms/kernelFailuresModuleImportErrFromFile'>here</a> for more info."
     ]
    }
   ],
   "source": [
    "filename = \"/Users/swapnaneeldey/Desktop/ASTR400Bfiles/MW_000.txt\"\n",
    "td_dist, td_vel , mass = ParticleInfo(filename, 2, 100)\n",
    "td_dist, td_vel , mass"
   ]
  },
  {
   "cell_type": "code",
   "execution_count": 41,
   "id": "677850fb-b331-4099-842b-07a081221328",
   "metadata": {},
   "outputs": [
    {
     "data": {
      "text/latex": [
       "$13845.338 \\; \\mathrm{lyr}$"
      ],
      "text/plain": [
       "<Quantity 13845.33823408 lyr>"
      ]
     },
     "execution_count": 41,
     "metadata": {},
     "output_type": "execute_result"
    }
   ],
   "source": [
    "#converting the distance from kpc to\n",
    "td_dist_in_ly = td_dist.to(u.lightyear)\n",
    "td_dist_in_ly"
   ]
  },
  {
   "cell_type": "code",
   "execution_count": null,
   "id": "b3dc13e7-7ab9-4863-b399-0a503539e203",
   "metadata": {},
   "outputs": [],
   "source": []
  }
 ],
 "metadata": {
  "kernelspec": {
   "display_name": "blueblobss",
   "language": "python",
   "name": "python3"
  },
  "language_info": {
   "codemirror_mode": {
    "name": "ipython",
    "version": 3
   },
   "file_extension": ".py",
   "mimetype": "text/x-python",
   "name": "python",
   "nbconvert_exporter": "python",
   "pygments_lexer": "ipython3",
   "version": "3.9.19"
  }
 },
 "nbformat": 4,
 "nbformat_minor": 5
}
